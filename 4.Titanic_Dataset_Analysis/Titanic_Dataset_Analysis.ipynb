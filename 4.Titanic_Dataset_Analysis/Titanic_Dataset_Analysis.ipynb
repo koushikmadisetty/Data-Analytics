{
 "cells": [
  {
   "cell_type": "code",
   "execution_count": 3,
   "id": "e4bdaf5a",
   "metadata": {},
   "outputs": [],
   "source": [
    "import pandas as pd\n",
    "import numpy as np\n",
    "import seaborn as sns\n",
    "import matplotlib.pyplot as plt\n",
    "import math\n",
    "td = pd.read_csv(r\"C:\\Users\\Saiko\\OneDrive\\Desktop\\Data Analytics\\Titanic\\train.csv\")"
   ]
  },
  {
   "cell_type": "code",
   "execution_count": 4,
   "id": "46d7735e",
   "metadata": {},
   "outputs": [
    {
     "data": {
      "text/html": [
       "<div>\n",
       "<style scoped>\n",
       "    .dataframe tbody tr th:only-of-type {\n",
       "        vertical-align: middle;\n",
       "    }\n",
       "\n",
       "    .dataframe tbody tr th {\n",
       "        vertical-align: top;\n",
       "    }\n",
       "\n",
       "    .dataframe thead th {\n",
       "        text-align: right;\n",
       "    }\n",
       "</style>\n",
       "<table border=\"1\" class=\"dataframe\">\n",
       "  <thead>\n",
       "    <tr style=\"text-align: right;\">\n",
       "      <th></th>\n",
       "      <th>PassengerId</th>\n",
       "      <th>Survived</th>\n",
       "      <th>Pclass</th>\n",
       "      <th>Name</th>\n",
       "      <th>Sex</th>\n",
       "      <th>Age</th>\n",
       "      <th>SibSp</th>\n",
       "      <th>Parch</th>\n",
       "      <th>Ticket</th>\n",
       "      <th>Fare</th>\n",
       "      <th>Cabin</th>\n",
       "      <th>Embarked</th>\n",
       "    </tr>\n",
       "  </thead>\n",
       "  <tbody>\n",
       "    <tr>\n",
       "      <th>0</th>\n",
       "      <td>1</td>\n",
       "      <td>0</td>\n",
       "      <td>3</td>\n",
       "      <td>Braund, Mr. Owen Harris</td>\n",
       "      <td>male</td>\n",
       "      <td>22.0</td>\n",
       "      <td>1</td>\n",
       "      <td>0</td>\n",
       "      <td>A/5 21171</td>\n",
       "      <td>7.2500</td>\n",
       "      <td>NaN</td>\n",
       "      <td>S</td>\n",
       "    </tr>\n",
       "    <tr>\n",
       "      <th>1</th>\n",
       "      <td>2</td>\n",
       "      <td>1</td>\n",
       "      <td>1</td>\n",
       "      <td>Cumings, Mrs. John Bradley (Florence Briggs Th...</td>\n",
       "      <td>female</td>\n",
       "      <td>38.0</td>\n",
       "      <td>1</td>\n",
       "      <td>0</td>\n",
       "      <td>PC 17599</td>\n",
       "      <td>71.2833</td>\n",
       "      <td>C85</td>\n",
       "      <td>C</td>\n",
       "    </tr>\n",
       "    <tr>\n",
       "      <th>2</th>\n",
       "      <td>3</td>\n",
       "      <td>1</td>\n",
       "      <td>3</td>\n",
       "      <td>Heikkinen, Miss. Laina</td>\n",
       "      <td>female</td>\n",
       "      <td>26.0</td>\n",
       "      <td>0</td>\n",
       "      <td>0</td>\n",
       "      <td>STON/O2. 3101282</td>\n",
       "      <td>7.9250</td>\n",
       "      <td>NaN</td>\n",
       "      <td>S</td>\n",
       "    </tr>\n",
       "    <tr>\n",
       "      <th>3</th>\n",
       "      <td>4</td>\n",
       "      <td>1</td>\n",
       "      <td>1</td>\n",
       "      <td>Futrelle, Mrs. Jacques Heath (Lily May Peel)</td>\n",
       "      <td>female</td>\n",
       "      <td>35.0</td>\n",
       "      <td>1</td>\n",
       "      <td>0</td>\n",
       "      <td>113803</td>\n",
       "      <td>53.1000</td>\n",
       "      <td>C123</td>\n",
       "      <td>S</td>\n",
       "    </tr>\n",
       "    <tr>\n",
       "      <th>4</th>\n",
       "      <td>5</td>\n",
       "      <td>0</td>\n",
       "      <td>3</td>\n",
       "      <td>Allen, Mr. William Henry</td>\n",
       "      <td>male</td>\n",
       "      <td>35.0</td>\n",
       "      <td>0</td>\n",
       "      <td>0</td>\n",
       "      <td>373450</td>\n",
       "      <td>8.0500</td>\n",
       "      <td>NaN</td>\n",
       "      <td>S</td>\n",
       "    </tr>\n",
       "  </tbody>\n",
       "</table>\n",
       "</div>"
      ],
      "text/plain": [
       "   PassengerId  Survived  Pclass  \\\n",
       "0            1         0       3   \n",
       "1            2         1       1   \n",
       "2            3         1       3   \n",
       "3            4         1       1   \n",
       "4            5         0       3   \n",
       "\n",
       "                                                Name     Sex   Age  SibSp  \\\n",
       "0                            Braund, Mr. Owen Harris    male  22.0      1   \n",
       "1  Cumings, Mrs. John Bradley (Florence Briggs Th...  female  38.0      1   \n",
       "2                             Heikkinen, Miss. Laina  female  26.0      0   \n",
       "3       Futrelle, Mrs. Jacques Heath (Lily May Peel)  female  35.0      1   \n",
       "4                           Allen, Mr. William Henry    male  35.0      0   \n",
       "\n",
       "   Parch            Ticket     Fare Cabin Embarked  \n",
       "0      0         A/5 21171   7.2500   NaN        S  \n",
       "1      0          PC 17599  71.2833   C85        C  \n",
       "2      0  STON/O2. 3101282   7.9250   NaN        S  \n",
       "3      0            113803  53.1000  C123        S  \n",
       "4      0            373450   8.0500   NaN        S  "
      ]
     },
     "execution_count": 4,
     "metadata": {},
     "output_type": "execute_result"
    }
   ],
   "source": [
    "td.head(5)"
   ]
  },
  {
   "cell_type": "markdown",
   "id": "5217add8",
   "metadata": {},
   "source": [
    "**Titanic Dataset Description\n",
    "\n",
    "1. Data Overview\n",
    "\n",
    "* Total Entries: 887\n",
    "* Columns: 8\n",
    "\n",
    "2. Types of Data:\n",
    "* Numerical: Survived, Pclass, Age, Siblings/Spouses Aboard, Parents/Children Aboard, Fare\n",
    "* Categorical: Name, Sex\n",
    "\n",
    "3. Column Description\n",
    "\n",
    "* Survived (0 = No, 1 = Yes) → Indicates whether the passenger survived.\n",
    "* Pclass (1st, 2nd, 3rd) → Passenger class.\n",
    "* Name → Passenger's full name.\n",
    "* Sex → Gender of the passenger.\n",
    "* Age → Age of the passenger.\n",
    "* Siblings/Spouses Aboard → Number of siblings or spouses aboard.\n",
    "* Parents/Children Aboard → Number of parents or children aboard.\n",
    "* Fare → Ticket price paid by the passenger."
   ]
  },
  {
   "cell_type": "code",
   "execution_count": 5,
   "id": "18681915",
   "metadata": {},
   "outputs": [
    {
     "data": {
      "text/plain": [
       "<Figure size 2000x2500 with 0 Axes>"
      ]
     },
     "execution_count": 5,
     "metadata": {},
     "output_type": "execute_result"
    },
    {
     "data": {
      "text/plain": [
       "<Figure size 2000x2500 with 0 Axes>"
      ]
     },
     "metadata": {},
     "output_type": "display_data"
    }
   ],
   "source": [
    "plt.figure(figsize=(20, 25))"
   ]
  },
  {
   "cell_type": "code",
   "execution_count": 6,
   "id": "93f022bc",
   "metadata": {},
   "outputs": [
    {
     "data": {
      "text/plain": [
       "<Axes: xlabel='Pclass', ylabel='count'>"
      ]
     },
     "execution_count": 6,
     "metadata": {},
     "output_type": "execute_result"
    },
    {
     "data": {
      "image/png": "[encoded data removed]",
      "text/plain": [
       "<Figure size 640x480 with 1 Axes>"
      ]
     },
     "metadata": {},
     "output_type": "display_data"
    }
   ],
   "source": [
    "sns.countplot(x=\"Pclass\", hue=\"Sex\",data=td)"
   ]
  },
  {
   "cell_type": "code",
   "execution_count": 7,
   "id": "15006571",
   "metadata": {},
   "outputs": [
    {
     "data": {
      "text/plain": [
       "<Axes: xlabel='Survived', ylabel='count'>"
      ]
     },
     "execution_count": 7,
     "metadata": {},
     "output_type": "execute_result"
    },
    {
     "data": {
      "image/png": "[encoded data removed]",
      "text/plain": [
       "<Figure size 640x480 with 1 Axes>"
      ]
     },
     "metadata": {},
     "output_type": "display_data"
    }
   ],
   "source": [
    "sns.countplot(x=\"Survived\", hue=\"Pclass\",data=td)"
   ]
  },
  {
   "cell_type": "code",
   "execution_count": 8,
   "id": "8cb2fe52",
   "metadata": {},
   "outputs": [
    {
     "data": {
      "text/plain": [
       "<Axes: xlabel='Survived', ylabel='count'>"
      ]
     },
     "execution_count": 8,
     "metadata": {},
     "output_type": "execute_result"
    },
    {
     "data": {
      "image/png": "[encoded data removed]",
      "text/plain": [
       "<Figure size 640x480 with 1 Axes>"
      ]
     },
     "metadata": {},
     "output_type": "display_data"
    }
   ],
   "source": [
    "sns.countplot(x=\"Survived\", hue=\"Age\",data=td)"
   ]
  },
  {
   "cell_type": "code",
   "execution_count": 9,
   "id": "b6e7e675",
   "metadata": {},
   "outputs": [
    {
     "data": {
      "text/plain": [
       "Text(0.5, 1.0, 'Age Distribution of Passengers')"
      ]
     },
     "execution_count": 9,
     "metadata": {},
     "output_type": "execute_result"
    },
    {
     "data": {
      "image/png": "[encoded data removed]",
      "text/plain": [
       "<Figure size 640x480 with 1 Axes>"
      ]
     },
     "metadata": {},
     "output_type": "display_data"
    }
   ],
   "source": [
    "sns.histplot(td[\"Age\"], bins=30, kde=True, color=\"purple\")\n",
    "plt.title(\"Age Distribution of Passengers\")\n"
   ]
  },
  {
   "cell_type": "code",
   "execution_count": 10,
   "id": "dc268a9c",
   "metadata": {},
   "outputs": [
    {
     "data": {
      "text/plain": [
       "Text(0.5, 1.0, 'Fare Distribution')"
      ]
     },
     "execution_count": 10,
     "metadata": {},
     "output_type": "execute_result"
    },
    {
     "data": {
      "image/png": "[encoded data removed]",
      "text/plain": [
       "<Figure size 640x480 with 1 Axes>"
      ]
     },
     "metadata": {},
     "output_type": "display_data"
    }
   ],
   "source": [
    "sns.histplot(td[\"Fare\"], bins=30, kde=True, color=\"green\")\n",
    "plt.title(\"Fare Distribution\")"
   ]
  },
  {
   "cell_type": "code",
   "execution_count": 11,
   "id": "f8667bb5",
   "metadata": {},
   "outputs": [
    {
     "name": "stderr",
     "output_type": "stream",
     "text": [
      "C:\\Users\\Saiko\\AppData\\Local\\Temp\\ipykernel_2532\\829218853.py:1: FutureWarning: \n",
      "\n",
      "Passing `palette` without assigning `hue` is deprecated and will be removed in v0.14.0. Assign the `x` variable to `hue` and set `legend=False` for the same effect.\n",
      "\n",
      "  sns.boxplot(x=\"Survived\", y=\"Age\", data=td, palette=\"Set2\")\n"
     ]
    },
    {
     "data": {
      "text/plain": [
       "Text(0.5, 1.0, 'Survival Rate by Age')"
      ]
     },
     "execution_count": 11,
     "metadata": {},
     "output_type": "execute_result"
    },
    {
     "data": {
      "image/png": "[encoded data removed]",
      "text/plain": [
       "<Figure size 640x480 with 1 Axes>"
      ]
     },
     "metadata": {},
     "output_type": "display_data"
    }
   ],
   "source": [
    "sns.boxplot(x=\"Survived\", y=\"Age\", data=td, palette=\"Set2\")\n",
    "plt.title(\"Survival Rate by Age\")"
   ]
  },
  {
   "cell_type": "code",
   "execution_count": 12,
   "id": "736f2024",
   "metadata": {},
   "outputs": [
    {
     "name": "stderr",
     "output_type": "stream",
     "text": [
      "C:\\Users\\Saiko\\AppData\\Local\\Temp\\ipykernel_2532\\2069748178.py:1: FutureWarning: \n",
      "\n",
      "Passing `palette` without assigning `hue` is deprecated and will be removed in v0.14.0. Assign the `x` variable to `hue` and set `legend=False` for the same effect.\n",
      "\n",
      "  sns.countplot(x=\"Pclass\", data=td, palette=\"Blues_r\")\n"
     ]
    },
    {
     "data": {
      "text/plain": [
       "Text(0.5, 1.0, 'Passenger Class Distribution')"
      ]
     },
     "execution_count": 12,
     "metadata": {},
     "output_type": "execute_result"
    },
    {
     "data": {
      "image/png": "[encoded data removed]",
      "text/plain": [
       "<Figure size 640x480 with 1 Axes>"
      ]
     },
     "metadata": {},
     "output_type": "display_data"
    }
   ],
   "source": [
    "sns.countplot(x=\"Pclass\", data=td, palette=\"Blues_r\")\n",
    "plt.title(\"Passenger Class Distribution\")"
   ]
  },
  {
   "cell_type": "code",
   "execution_count": 13,
   "id": "45c04961",
   "metadata": {},
   "outputs": [
    {
     "data": {
      "text/plain": [
       "Text(0.5, 1.0, 'Fare vs. Age')"
      ]
     },
     "execution_count": 13,
     "metadata": {},
     "output_type": "execute_result"
    },
    {
     "data": {
      "image/png": "[encoded data removed]",
      "text/plain": [
       "<Figure size 640x480 with 1 Axes>"
      ]
     },
     "metadata": {},
     "output_type": "display_data"
    }
   ],
   "source": [
    "sns.scatterplot(x=\"Age\", y=\"Fare\", hue=\"Survived\", data=td, palette=\"coolwarm\")\n",
    "plt.title(\"Fare vs. Age\")"
   ]
  },
  {
   "cell_type": "code",
   "execution_count": 14,
   "id": "0e4cb67e",
   "metadata": {},
   "outputs": [
    {
     "name": "stderr",
     "output_type": "stream",
     "text": [
      "C:\\Users\\Saiko\\AppData\\Local\\Temp\\ipykernel_2532\\1592040016.py:1: FutureWarning: \n",
      "\n",
      "Passing `palette` without assigning `hue` is deprecated and will be removed in v0.14.0. Assign the `x` variable to `hue` and set `legend=False` for the same effect.\n",
      "\n",
      "  sns.barplot(x=\"SibSp\", y=\"Survived\", data=td, palette=\"magma\")\n"
     ]
    },
    {
     "data": {
      "text/plain": [
       "Text(0.5, 1.0, 'Survival Rate by Number of Siblings/Spouses')"
      ]
     },
     "execution_count": 14,
     "metadata": {},
     "output_type": "execute_result"
    },
    {
     "data": {
      "image/png": "[encoded data removed]",
      "text/plain": [
       "<Figure size 640x480 with 1 Axes>"
      ]
     },
     "metadata": {},
     "output_type": "display_data"
    }
   ],
   "source": [
    "sns.barplot(x=\"SibSp\", y=\"Survived\", data=td, palette=\"magma\")\n",
    "plt.title(\"Survival Rate by Number of Siblings/Spouses\")"
   ]
  },
  {
   "cell_type": "code",
   "execution_count": 15,
   "id": "054937a4",
   "metadata": {},
   "outputs": [
    {
     "name": "stderr",
     "output_type": "stream",
     "text": [
      "C:\\Users\\Saiko\\AppData\\Local\\Temp\\ipykernel_2532\\3310087714.py:1: FutureWarning: \n",
      "\n",
      "Passing `palette` without assigning `hue` is deprecated and will be removed in v0.14.0. Assign the `x` variable to `hue` and set `legend=False` for the same effect.\n",
      "\n",
      "  sns.barplot(x=\"Parch\", y=\"Survived\", data=td, palette=\"viridis\")\n"
     ]
    },
    {
     "data": {
      "text/plain": [
       "Text(0.5, 1.0, 'Survival Rate by Number of Parents/Children')"
      ]
     },
     "execution_count": 15,
     "metadata": {},
     "output_type": "execute_result"
    },
    {
     "data": {
      "image/png": "[encoded data removed]",
      "text/plain": [
       "<Figure size 640x480 with 1 Axes>"
      ]
     },
     "metadata": {},
     "output_type": "display_data"
    }
   ],
   "source": [
    "sns.barplot(x=\"Parch\", y=\"Survived\", data=td, palette=\"viridis\")\n",
    "plt.title(\"Survival Rate by Number of Parents/Children\")"
   ]
  },
  {
   "cell_type": "code",
   "execution_count": 16,
   "id": "7e1296aa",
   "metadata": {},
   "outputs": [
    {
     "data": {
      "text/plain": [
       "Text(0.5, 1.0, 'Survival Distribution')"
      ]
     },
     "execution_count": 16,
     "metadata": {},
     "output_type": "execute_result"
    },
    {
     "data": {
      "image/png": "[encoded data removed]",
      "text/plain": [
       "<Figure size 640x480 with 1 Axes>"
      ]
     },
     "metadata": {},
     "output_type": "display_data"
    }
   ],
   "source": [
    "survival_counts = td[\"Survived\"].value_counts()\n",
    "plt.pie(survival_counts, labels=[\"Not Survived\", \"Survived\"], autopct=\"%1.1f%%\", colors=[\"red\", \"green\"], startangle=90)\n",
    "plt.title(\"Survival Distribution\")\n"
   ]
  },
  {
   "cell_type": "code",
   "execution_count": 17,
   "id": "9002c487",
   "metadata": {},
   "outputs": [
    {
     "name": "stdout",
     "output_type": "stream",
     "text": [
      "<class 'pandas.core.frame.DataFrame'>\n",
      "RangeIndex: 891 entries, 0 to 890\n",
      "Data columns (total 12 columns):\n",
      " #   Column       Non-Null Count  Dtype  \n",
      "---  ------       --------------  -----  \n",
      " 0   PassengerId  891 non-null    int64  \n",
      " 1   Survived     891 non-null    int64  \n",
      " 2   Pclass       891 non-null    int64  \n",
      " 3   Name         891 non-null    object \n",
      " 4   Sex          891 non-null    object \n",
      " 5   Age          714 non-null    float64\n",
      " 6   SibSp        891 non-null    int64  \n",
      " 7   Parch        891 non-null    int64  \n",
      " 8   Ticket       891 non-null    object \n",
      " 9   Fare         891 non-null    float64\n",
      " 10  Cabin        204 non-null    object \n",
      " 11  Embarked     889 non-null    object \n",
      "dtypes: float64(2), int64(5), object(5)\n",
      "memory usage: 83.7+ KB\n"
     ]
    }
   ],
   "source": [
    "td.info()"
   ]
  },
  {
   "cell_type": "code",
   "execution_count": 18,
   "id": "650d5847",
   "metadata": {},
   "outputs": [
    {
     "data": {
      "text/html": [
       "<div>\n",
       "<style scoped>\n",
       "    .dataframe tbody tr th:only-of-type {\n",
       "        vertical-align: middle;\n",
       "    }\n",
       "\n",
       "    .dataframe tbody tr th {\n",
       "        vertical-align: top;\n",
       "    }\n",
       "\n",
       "    .dataframe thead th {\n",
       "        text-align: right;\n",
       "    }\n",
       "</style>\n",
       "<table border=\"1\" class=\"dataframe\">\n",
       "  <thead>\n",
       "    <tr style=\"text-align: right;\">\n",
       "      <th></th>\n",
       "      <th>PassengerId</th>\n",
       "      <th>Survived</th>\n",
       "      <th>Pclass</th>\n",
       "      <th>Name</th>\n",
       "      <th>Sex</th>\n",
       "      <th>Age</th>\n",
       "      <th>SibSp</th>\n",
       "      <th>Parch</th>\n",
       "      <th>Ticket</th>\n",
       "      <th>Fare</th>\n",
       "      <th>Cabin</th>\n",
       "      <th>Embarked</th>\n",
       "    </tr>\n",
       "  </thead>\n",
       "  <tbody>\n",
       "    <tr>\n",
       "      <th>0</th>\n",
       "      <td>False</td>\n",
       "      <td>False</td>\n",
       "      <td>False</td>\n",
       "      <td>False</td>\n",
       "      <td>False</td>\n",
       "      <td>False</td>\n",
       "      <td>False</td>\n",
       "      <td>False</td>\n",
       "      <td>False</td>\n",
       "      <td>False</td>\n",
       "      <td>True</td>\n",
       "      <td>False</td>\n",
       "    </tr>\n",
       "    <tr>\n",
       "      <th>1</th>\n",
       "      <td>False</td>\n",
       "      <td>False</td>\n",
       "      <td>False</td>\n",
       "      <td>False</td>\n",
       "      <td>False</td>\n",
       "      <td>False</td>\n",
       "      <td>False</td>\n",
       "      <td>False</td>\n",
       "      <td>False</td>\n",
       "      <td>False</td>\n",
       "      <td>False</td>\n",
       "      <td>False</td>\n",
       "    </tr>\n",
       "    <tr>\n",
       "      <th>2</th>\n",
       "      <td>False</td>\n",
       "      <td>False</td>\n",
       "      <td>False</td>\n",
       "      <td>False</td>\n",
       "      <td>False</td>\n",
       "      <td>False</td>\n",
       "      <td>False</td>\n",
       "      <td>False</td>\n",
       "      <td>False</td>\n",
       "      <td>False</td>\n",
       "      <td>True</td>\n",
       "      <td>False</td>\n",
       "    </tr>\n",
       "    <tr>\n",
       "      <th>3</th>\n",
       "      <td>False</td>\n",
       "      <td>False</td>\n",
       "      <td>False</td>\n",
       "      <td>False</td>\n",
       "      <td>False</td>\n",
       "      <td>False</td>\n",
       "      <td>False</td>\n",
       "      <td>False</td>\n",
       "      <td>False</td>\n",
       "      <td>False</td>\n",
       "      <td>False</td>\n",
       "      <td>False</td>\n",
       "    </tr>\n",
       "    <tr>\n",
       "      <th>4</th>\n",
       "      <td>False</td>\n",
       "      <td>False</td>\n",
       "      <td>False</td>\n",
       "      <td>False</td>\n",
       "      <td>False</td>\n",
       "      <td>False</td>\n",
       "      <td>False</td>\n",
       "      <td>False</td>\n",
       "      <td>False</td>\n",
       "      <td>False</td>\n",
       "      <td>True</td>\n",
       "      <td>False</td>\n",
       "    </tr>\n",
       "    <tr>\n",
       "      <th>...</th>\n",
       "      <td>...</td>\n",
       "      <td>...</td>\n",
       "      <td>...</td>\n",
       "      <td>...</td>\n",
       "      <td>...</td>\n",
       "      <td>...</td>\n",
       "      <td>...</td>\n",
       "      <td>...</td>\n",
       "      <td>...</td>\n",
       "      <td>...</td>\n",
       "      <td>...</td>\n",
       "      <td>...</td>\n",
       "    </tr>\n",
       "    <tr>\n",
       "      <th>886</th>\n",
       "      <td>False</td>\n",
       "      <td>False</td>\n",
       "      <td>False</td>\n",
       "      <td>False</td>\n",
       "      <td>False</td>\n",
       "      <td>False</td>\n",
       "      <td>False</td>\n",
       "      <td>False</td>\n",
       "      <td>False</td>\n",
       "      <td>False</td>\n",
       "      <td>True</td>\n",
       "      <td>False</td>\n",
       "    </tr>\n",
       "    <tr>\n",
       "      <th>887</th>\n",
       "      <td>False</td>\n",
       "      <td>False</td>\n",
       "      <td>False</td>\n",
       "      <td>False</td>\n",
       "      <td>False</td>\n",
       "      <td>False</td>\n",
       "      <td>False</td>\n",
       "      <td>False</td>\n",
       "      <td>False</td>\n",
       "      <td>False</td>\n",
       "      <td>False</td>\n",
       "      <td>False</td>\n",
       "    </tr>\n",
       "    <tr>\n",
       "      <th>888</th>\n",
       "      <td>False</td>\n",
       "      <td>False</td>\n",
       "      <td>False</td>\n",
       "      <td>False</td>\n",
       "      <td>False</td>\n",
       "      <td>True</td>\n",
       "      <td>False</td>\n",
       "      <td>False</td>\n",
       "      <td>False</td>\n",
       "      <td>False</td>\n",
       "      <td>True</td>\n",
       "      <td>False</td>\n",
       "    </tr>\n",
       "    <tr>\n",
       "      <th>889</th>\n",
       "      <td>False</td>\n",
       "      <td>False</td>\n",
       "      <td>False</td>\n",
       "      <td>False</td>\n",
       "      <td>False</td>\n",
       "      <td>False</td>\n",
       "      <td>False</td>\n",
       "      <td>False</td>\n",
       "      <td>False</td>\n",
       "      <td>False</td>\n",
       "      <td>False</td>\n",
       "      <td>False</td>\n",
       "    </tr>\n",
       "    <tr>\n",
       "      <th>890</th>\n",
       "      <td>False</td>\n",
       "      <td>False</td>\n",
       "      <td>False</td>\n",
       "      <td>False</td>\n",
       "      <td>False</td>\n",
       "      <td>False</td>\n",
       "      <td>False</td>\n",
       "      <td>False</td>\n",
       "      <td>False</td>\n",
       "      <td>False</td>\n",
       "      <td>True</td>\n",
       "      <td>False</td>\n",
       "    </tr>\n",
       "  </tbody>\n",
       "</table>\n",
       "<p>891 rows × 12 columns</p>\n",
       "</div>"
      ],
      "text/plain": [
       "     PassengerId  Survived  Pclass   Name    Sex    Age  SibSp  Parch  Ticket  \\\n",
       "0          False     False   False  False  False  False  False  False   False   \n",
       "1          False     False   False  False  False  False  False  False   False   \n",
       "2          False     False   False  False  False  False  False  False   False   \n",
       "3          False     False   False  False  False  False  False  False   False   \n",
       "4          False     False   False  False  False  False  False  False   False   \n",
       "..           ...       ...     ...    ...    ...    ...    ...    ...     ...   \n",
       "886        False     False   False  False  False  False  False  False   False   \n",
       "887        False     False   False  False  False  False  False  False   False   \n",
       "888        False     False   False  False  False   True  False  False   False   \n",
       "889        False     False   False  False  False  False  False  False   False   \n",
       "890        False     False   False  False  False  False  False  False   False   \n",
       "\n",
       "      Fare  Cabin  Embarked  \n",
       "0    False   True     False  \n",
       "1    False  False     False  \n",
       "2    False   True     False  \n",
       "3    False  False     False  \n",
       "4    False   True     False  \n",
       "..     ...    ...       ...  \n",
       "886  False   True     False  \n",
       "887  False  False     False  \n",
       "888  False   True     False  \n",
       "889  False  False     False  \n",
       "890  False   True     False  \n",
       "\n",
       "[891 rows x 12 columns]"
      ]
     },
     "execution_count": 18,
     "metadata": {},
     "output_type": "execute_result"
    }
   ],
   "source": [
    "td.isnull()"
   ]
  },
  {
   "cell_type": "code",
   "execution_count": 19,
   "id": "f175475c",
   "metadata": {},
   "outputs": [
    {
     "data": {
      "text/plain": [
       "PassengerId      0\n",
       "Survived         0\n",
       "Pclass           0\n",
       "Name             0\n",
       "Sex              0\n",
       "Age            177\n",
       "SibSp            0\n",
       "Parch            0\n",
       "Ticket           0\n",
       "Fare             0\n",
       "Cabin          687\n",
       "Embarked         2\n",
       "dtype: int64"
      ]
     },
     "execution_count": 19,
     "metadata": {},
     "output_type": "execute_result"
    }
   ],
   "source": [
    "td.isnull().sum()"
   ]
  },
  {
   "cell_type": "code",
   "execution_count": 20,
   "id": "752fc8fe",
   "metadata": {},
   "outputs": [],
   "source": [
    "td.drop([\"Name\",\"PassengerId\",\"Ticket\"],axis=1,inplace=True)"
   ]
  },
  {
   "cell_type": "code",
   "execution_count": 21,
   "id": "103bf5ce",
   "metadata": {},
   "outputs": [
    {
     "data": {
      "text/plain": [
       "29.69911764705882"
      ]
     },
     "execution_count": 21,
     "metadata": {},
     "output_type": "execute_result"
    }
   ],
   "source": [
    "td.Age.mean()"
   ]
  },
  {
   "cell_type": "code",
   "execution_count": 22,
   "id": "e3633e4c",
   "metadata": {},
   "outputs": [],
   "source": [
    "td['Age'] = td['Age'].fillna(td['Age'].mean())"
   ]
  },
  {
   "cell_type": "code",
   "execution_count": 23,
   "id": "402b690a",
   "metadata": {},
   "outputs": [
    {
     "data": {
      "text/plain": [
       "Survived      0\n",
       "Pclass        0\n",
       "Sex           0\n",
       "Age           0\n",
       "SibSp         0\n",
       "Parch         0\n",
       "Fare          0\n",
       "Cabin       687\n",
       "Embarked      2\n",
       "dtype: int64"
      ]
     },
     "execution_count": 23,
     "metadata": {},
     "output_type": "execute_result"
    }
   ],
   "source": [
    "td.isnull().sum()"
   ]
  },
  {
   "cell_type": "code",
   "execution_count": 24,
   "id": "fd351c32",
   "metadata": {},
   "outputs": [
    {
     "name": "stdout",
     "output_type": "stream",
     "text": [
      "<class 'pandas.core.frame.DataFrame'>\n",
      "RangeIndex: 891 entries, 0 to 890\n",
      "Data columns (total 9 columns):\n",
      " #   Column    Non-Null Count  Dtype\n",
      "---  ------    --------------  -----\n",
      " 0   Survived  891 non-null    bool \n",
      " 1   Pclass    891 non-null    bool \n",
      " 2   Sex       891 non-null    bool \n",
      " 3   Age       891 non-null    bool \n",
      " 4   SibSp     891 non-null    bool \n",
      " 5   Parch     891 non-null    bool \n",
      " 6   Fare      891 non-null    bool \n",
      " 7   Cabin     891 non-null    bool \n",
      " 8   Embarked  891 non-null    bool \n",
      "dtypes: bool(9)\n",
      "memory usage: 8.0 KB\n"
     ]
    }
   ],
   "source": [
    "td.isnull().info()"
   ]
  },
  {
   "cell_type": "code",
   "execution_count": 25,
   "id": "5267ef31",
   "metadata": {},
   "outputs": [
    {
     "data": {
      "text/plain": [
       "Survived      0\n",
       "Pclass        0\n",
       "Sex           0\n",
       "Age           0\n",
       "SibSp         0\n",
       "Parch         0\n",
       "Fare          0\n",
       "Cabin       687\n",
       "Embarked      2\n",
       "dtype: int64"
      ]
     },
     "execution_count": 25,
     "metadata": {},
     "output_type": "execute_result"
    }
   ],
   "source": [
    "td.isnull().sum()"
   ]
  },
  {
   "cell_type": "code",
   "execution_count": 26,
   "id": "5aa5f03d",
   "metadata": {
    "scrolled": true
   },
   "outputs": [
    {
     "name": "stdout",
     "output_type": "stream",
     "text": [
      "<class 'pandas.core.frame.DataFrame'>\n",
      "RangeIndex: 891 entries, 0 to 890\n",
      "Data columns (total 9 columns):\n",
      " #   Column    Non-Null Count  Dtype\n",
      "---  ------    --------------  -----\n",
      " 0   Survived  891 non-null    bool \n",
      " 1   Pclass    891 non-null    bool \n",
      " 2   Sex       891 non-null    bool \n",
      " 3   Age       891 non-null    bool \n",
      " 4   SibSp     891 non-null    bool \n",
      " 5   Parch     891 non-null    bool \n",
      " 6   Fare      891 non-null    bool \n",
      " 7   Cabin     891 non-null    bool \n",
      " 8   Embarked  891 non-null    bool \n",
      "dtypes: bool(9)\n",
      "memory usage: 8.0 KB\n"
     ]
    }
   ],
   "source": [
    "td.isnull().info()"
   ]
  },
  {
   "cell_type": "code",
   "execution_count": 27,
   "id": "d1bb6392",
   "metadata": {},
   "outputs": [],
   "source": [
    "td.loc[(td[\"Survived\"] == 1) & (td[\"Pclass\"] == 1) & (td[\"Cabin\"].isna()), \"Cabin\"] = \"B78\"\n",
    "td.loc[(td[\"Survived\"] == 1) & (td[\"Pclass\"] == 2) & (td[\"Cabin\"].isna()), \"Cabin\"] = \"E102\"\n",
    "td.loc[(td[\"Survived\"] == 1) & (td[\"Pclass\"] == 3) & (td[\"Cabin\"].isna()), \"Cabin\"] = \"E104\"\n",
    "\n",
    "td.loc[(td[\"Survived\"] == 0) & (td[\"Pclass\"] == 1) & (td[\"Cabin\"].isna()), \"Cabin\"] = \"C119\"\n",
    "td.loc[(td[\"Survived\"] == 0) & (td[\"Pclass\"] == 2) & (td[\"Cabin\"].isna()), \"Cabin\"] = \"E\"\n",
    "td.loc[(td[\"Survived\"] == 0) & (td[\"Pclass\"] == 3) & (td[\"Cabin\"].isna()), \"Cabin\"] = \"G\""
   ]
  },
  {
   "cell_type": "code",
   "execution_count": 28,
   "id": "3de6d4ec",
   "metadata": {},
   "outputs": [
    {
     "name": "stderr",
     "output_type": "stream",
     "text": [
      "C:\\Users\\Saiko\\AppData\\Local\\Temp\\ipykernel_2532\\4252291910.py:1: FutureWarning: A value is trying to be set on a copy of a DataFrame or Series through chained assignment using an inplace method.\n",
      "The behavior will change in pandas 3.0. This inplace method will never work because the intermediate object on which we are setting values always behaves as a copy.\n",
      "\n",
      "For example, when doing 'df[col].method(value, inplace=True)', try using 'df.method({col: value}, inplace=True)' or df[col] = df[col].method(value) instead, to perform the operation inplace on the original object.\n",
      "\n",
      "\n",
      "  td[\"Embarked\"].fillna(\"S\", inplace=True)\n"
     ]
    }
   ],
   "source": [
    "td[\"Embarked\"].fillna(\"S\", inplace=True)"
   ]
  },
  {
   "cell_type": "code",
   "execution_count": 29,
   "id": "92948452",
   "metadata": {},
   "outputs": [
    {
     "name": "stdout",
     "output_type": "stream",
     "text": [
      "<class 'pandas.core.frame.DataFrame'>\n",
      "RangeIndex: 891 entries, 0 to 890\n",
      "Data columns (total 9 columns):\n",
      " #   Column    Non-Null Count  Dtype  \n",
      "---  ------    --------------  -----  \n",
      " 0   Survived  891 non-null    int64  \n",
      " 1   Pclass    891 non-null    int64  \n",
      " 2   Sex       891 non-null    object \n",
      " 3   Age       891 non-null    float64\n",
      " 4   SibSp     891 non-null    int64  \n",
      " 5   Parch     891 non-null    int64  \n",
      " 6   Fare      891 non-null    float64\n",
      " 7   Cabin     891 non-null    object \n",
      " 8   Embarked  891 non-null    object \n",
      "dtypes: float64(2), int64(4), object(3)\n",
      "memory usage: 62.8+ KB\n"
     ]
    }
   ],
   "source": [
    "td.info()"
   ]
  },
  {
   "cell_type": "code",
   "execution_count": 30,
   "id": "7f95e877",
   "metadata": {},
   "outputs": [
    {
     "name": "stdout",
     "output_type": "stream",
     "text": [
      "0        male\n",
      "1      female\n",
      "2      female\n",
      "3      female\n",
      "4        male\n",
      "        ...  \n",
      "886      male\n",
      "887    female\n",
      "888    female\n",
      "889      male\n",
      "890      male\n",
      "Name: Sex, Length: 891, dtype: object\n"
     ]
    }
   ],
   "source": [
    "print(td['Sex'])"
   ]
  },
  {
   "cell_type": "code",
   "execution_count": 31,
   "id": "3257b40d",
   "metadata": {},
   "outputs": [
    {
     "name": "stdout",
     "output_type": "stream",
     "text": [
      "0      S\n",
      "1      C\n",
      "2      S\n",
      "3      S\n",
      "4      S\n",
      "      ..\n",
      "886    S\n",
      "887    S\n",
      "888    S\n",
      "889    C\n",
      "890    Q\n",
      "Name: Embarked, Length: 891, dtype: object\n"
     ]
    }
   ],
   "source": [
    "print(td['Embarked'])"
   ]
  },
  {
   "cell_type": "code",
   "execution_count": 32,
   "id": "0da0f1b5",
   "metadata": {},
   "outputs": [
    {
     "name": "stdout",
     "output_type": "stream",
     "text": [
      "0      3\n",
      "1      1\n",
      "2      3\n",
      "3      1\n",
      "4      3\n",
      "      ..\n",
      "886    2\n",
      "887    1\n",
      "888    3\n",
      "889    1\n",
      "890    3\n",
      "Name: Pclass, Length: 891, dtype: int64\n"
     ]
    }
   ],
   "source": [
    "print(td['Pclass'])"
   ]
  },
  {
   "cell_type": "code",
   "execution_count": 33,
   "id": "a30c9795",
   "metadata": {},
   "outputs": [],
   "source": [
    "cabin=pd.get_dummies(td['Cabin'])"
   ]
  },
  {
   "cell_type": "code",
   "execution_count": 34,
   "id": "feaefd10",
   "metadata": {},
   "outputs": [
    {
     "name": "stdout",
     "output_type": "stream",
     "text": [
      "       A10    A14    A16    A19    A20    A23    A24    A26    A31    A32  \\\n",
      "0    False  False  False  False  False  False  False  False  False  False   \n",
      "1    False  False  False  False  False  False  False  False  False  False   \n",
      "2    False  False  False  False  False  False  False  False  False  False   \n",
      "3    False  False  False  False  False  False  False  False  False  False   \n",
      "4    False  False  False  False  False  False  False  False  False  False   \n",
      "..     ...    ...    ...    ...    ...    ...    ...    ...    ...    ...   \n",
      "886  False  False  False  False  False  False  False  False  False  False   \n",
      "887  False  False  False  False  False  False  False  False  False  False   \n",
      "888  False  False  False  False  False  False  False  False  False  False   \n",
      "889  False  False  False  False  False  False  False  False  False  False   \n",
      "890  False  False  False  False  False  False  False  False  False  False   \n",
      "\n",
      "     ...  F E69  F G63  F G73     F2    F33    F38     F4      G     G6      T  \n",
      "0    ...  False  False  False  False  False  False  False   True  False  False  \n",
      "1    ...  False  False  False  False  False  False  False  False  False  False  \n",
      "2    ...  False  False  False  False  False  False  False  False  False  False  \n",
      "3    ...  False  False  False  False  False  False  False  False  False  False  \n",
      "4    ...  False  False  False  False  False  False  False   True  False  False  \n",
      "..   ...    ...    ...    ...    ...    ...    ...    ...    ...    ...    ...  \n",
      "886  ...  False  False  False  False  False  False  False  False  False  False  \n",
      "887  ...  False  False  False  False  False  False  False  False  False  False  \n",
      "888  ...  False  False  False  False  False  False  False   True  False  False  \n",
      "889  ...  False  False  False  False  False  False  False  False  False  False  \n",
      "890  ...  False  False  False  False  False  False  False   True  False  False  \n",
      "\n",
      "[891 rows x 152 columns]\n"
     ]
    }
   ],
   "source": [
    "print(cabin)"
   ]
  },
  {
   "cell_type": "code",
   "execution_count": 35,
   "id": "3795ba68",
   "metadata": {},
   "outputs": [],
   "source": [
    "td.drop([\"Pclass\",\"Sex\",\"Embarked\",\"Cabin\"],axis=1,inplace=True)"
   ]
  },
  {
   "cell_type": "code",
   "execution_count": 36,
   "id": "63f3c362",
   "metadata": {},
   "outputs": [],
   "source": [
    "td=pd.concat([td,cabin],axis=1)"
   ]
  },
  {
   "cell_type": "code",
   "execution_count": 37,
   "id": "221e9d35",
   "metadata": {},
   "outputs": [
    {
     "name": "stdout",
     "output_type": "stream",
     "text": [
      "<class 'pandas.core.frame.DataFrame'>\n",
      "RangeIndex: 891 entries, 0 to 890\n",
      "Columns: 157 entries, Survived to T\n",
      "dtypes: bool(152), float64(2), int64(3)\n",
      "memory usage: 167.2 KB\n",
      "None\n"
     ]
    }
   ],
   "source": [
    "print(td.info())"
   ]
  },
  {
   "cell_type": "code",
   "execution_count": 38,
   "id": "74926430",
   "metadata": {},
   "outputs": [],
   "source": [
    "X=td.drop([\"Survived\"],axis=1)"
   ]
  },
  {
   "cell_type": "code",
   "execution_count": 39,
   "id": "3fcca6c4",
   "metadata": {},
   "outputs": [
    {
     "name": "stdout",
     "output_type": "stream",
     "text": [
      "           Age  SibSp  Parch     Fare    A10    A14    A16    A19    A20  \\\n",
      "0    22.000000      1      0   7.2500  False  False  False  False  False   \n",
      "1    38.000000      1      0  71.2833  False  False  False  False  False   \n",
      "2    26.000000      0      0   7.9250  False  False  False  False  False   \n",
      "3    35.000000      1      0  53.1000  False  False  False  False  False   \n",
      "4    35.000000      0      0   8.0500  False  False  False  False  False   \n",
      "..         ...    ...    ...      ...    ...    ...    ...    ...    ...   \n",
      "886  27.000000      0      0  13.0000  False  False  False  False  False   \n",
      "887  19.000000      0      0  30.0000  False  False  False  False  False   \n",
      "888  29.699118      1      2  23.4500  False  False  False  False  False   \n",
      "889  26.000000      0      0  30.0000  False  False  False  False  False   \n",
      "890  32.000000      0      0   7.7500  False  False  False  False  False   \n",
      "\n",
      "       A23  ...  F E69  F G63  F G73     F2    F33    F38     F4      G  \\\n",
      "0    False  ...  False  False  False  False  False  False  False   True   \n",
      "1    False  ...  False  False  False  False  False  False  False  False   \n",
      "2    False  ...  False  False  False  False  False  False  False  False   \n",
      "3    False  ...  False  False  False  False  False  False  False  False   \n",
      "4    False  ...  False  False  False  False  False  False  False   True   \n",
      "..     ...  ...    ...    ...    ...    ...    ...    ...    ...    ...   \n",
      "886  False  ...  False  False  False  False  False  False  False  False   \n",
      "887  False  ...  False  False  False  False  False  False  False  False   \n",
      "888  False  ...  False  False  False  False  False  False  False   True   \n",
      "889  False  ...  False  False  False  False  False  False  False  False   \n",
      "890  False  ...  False  False  False  False  False  False  False   True   \n",
      "\n",
      "        G6      T  \n",
      "0    False  False  \n",
      "1    False  False  \n",
      "2    False  False  \n",
      "3    False  False  \n",
      "4    False  False  \n",
      "..     ...    ...  \n",
      "886  False  False  \n",
      "887  False  False  \n",
      "888  False  False  \n",
      "889  False  False  \n",
      "890  False  False  \n",
      "\n",
      "[891 rows x 156 columns]\n"
     ]
    }
   ],
   "source": [
    "print(X)"
   ]
  },
  {
   "cell_type": "code",
   "execution_count": 40,
   "id": "70d4f68d",
   "metadata": {},
   "outputs": [
    {
     "name": "stdout",
     "output_type": "stream",
     "text": [
      "<class 'pandas.core.frame.DataFrame'>\n",
      "RangeIndex: 891 entries, 0 to 890\n",
      "Columns: 156 entries, Age to T\n",
      "dtypes: bool(152), float64(2), int64(2)\n",
      "memory usage: 160.2 KB\n"
     ]
    }
   ],
   "source": [
    "X.info()"
   ]
  },
  {
   "cell_type": "code",
   "execution_count": 41,
   "id": "1af1a9c1",
   "metadata": {},
   "outputs": [],
   "source": [
    "y=td[\"Survived\"]"
   ]
  },
  {
   "cell_type": "code",
   "execution_count": 42,
   "id": "99f1f23f",
   "metadata": {},
   "outputs": [
    {
     "name": "stdout",
     "output_type": "stream",
     "text": [
      "0      0\n",
      "1      1\n",
      "2      1\n",
      "3      1\n",
      "4      0\n",
      "      ..\n",
      "886    0\n",
      "887    1\n",
      "888    0\n",
      "889    1\n",
      "890    0\n",
      "Name: Survived, Length: 891, dtype: int64\n"
     ]
    }
   ],
   "source": [
    "print(y)"
   ]
  },
  {
   "cell_type": "code",
   "execution_count": 43,
   "id": "6c61d92d",
   "metadata": {},
   "outputs": [],
   "source": [
    "from sklearn.model_selection import train_test_split"
   ]
  },
  {
   "cell_type": "code",
   "execution_count": 44,
   "id": "62ff5e06",
   "metadata": {},
   "outputs": [],
   "source": [
    "X_train,X_test,y_train,y_test=train_test_split(X,y,test_size=0.3,random_state=1)"
   ]
  },
  {
   "cell_type": "code",
   "execution_count": 45,
   "id": "ba4e6318",
   "metadata": {},
   "outputs": [
    {
     "name": "stdout",
     "output_type": "stream",
     "text": [
      "<class 'pandas.core.frame.DataFrame'>\n",
      "Index: 623 entries, 114 to 37\n",
      "Columns: 156 entries, Age to T\n",
      "dtypes: bool(152), float64(2), int64(2)\n",
      "memory usage: 116.8 KB\n"
     ]
    }
   ],
   "source": [
    "X_train.info()"
   ]
  },
  {
   "cell_type": "code",
   "execution_count": 46,
   "id": "c4411bc9",
   "metadata": {},
   "outputs": [
    {
     "name": "stdout",
     "output_type": "stream",
     "text": [
      "<class 'pandas.core.frame.DataFrame'>\n",
      "Index: 268 entries, 862 to 92\n",
      "Columns: 156 entries, Age to T\n",
      "dtypes: bool(152), float64(2), int64(2)\n",
      "memory usage: 50.2 KB\n"
     ]
    }
   ],
   "source": [
    "X_test.info()"
   ]
  },
  {
   "cell_type": "code",
   "execution_count": 47,
   "id": "0c0ac0b7",
   "metadata": {},
   "outputs": [],
   "source": [
    "from sklearn.linear_model import LogisticRegression"
   ]
  },
  {
   "cell_type": "code",
   "execution_count": 48,
   "id": "244f7299",
   "metadata": {},
   "outputs": [],
   "source": [
    "lm=LogisticRegression(max_iter=10000)"
   ]
  },
  {
   "cell_type": "code",
   "execution_count": 49,
   "id": "305e5bd1",
   "metadata": {},
   "outputs": [
    {
     "name": "stdout",
     "output_type": "stream",
     "text": [
      "LogisticRegression(max_iter=10000)\n"
     ]
    }
   ],
   "source": [
    "print(lm.fit(X_train,y_train))"
   ]
  },
  {
   "cell_type": "code",
   "execution_count": 57,
   "id": "250567f5",
   "metadata": {},
   "outputs": [],
   "source": [
    "Predections=lm.predict(X_test)"
   ]
  },
  {
   "cell_type": "code",
   "execution_count": 58,
   "id": "54c6eee0",
   "metadata": {},
   "outputs": [],
   "source": [
    "from sklearn.metrics import classification_report"
   ]
  },
  {
   "cell_type": "code",
   "execution_count": 52,
   "id": "7b6bb781",
   "metadata": {},
   "outputs": [
    {
     "name": "stdout",
     "output_type": "stream",
     "text": [
      "              precision    recall  f1-score   support\n",
      "\n",
      "           0       0.97      0.90      0.93       153\n",
      "           1       0.87      0.97      0.92       115\n",
      "\n",
      "    accuracy                           0.93       268\n",
      "   macro avg       0.92      0.93      0.92       268\n",
      "weighted avg       0.93      0.93      0.93       268\n",
      "\n"
     ]
    }
   ],
   "source": [
    "print(classification_report(y_test,Predections))"
   ]
  },
  {
   "cell_type": "code",
   "execution_count": 53,
   "id": "02cb17ed",
   "metadata": {},
   "outputs": [],
   "source": [
    "from sklearn.metrics import confusion_matrix"
   ]
  },
  {
   "cell_type": "code",
   "execution_count": 54,
   "id": "643f4e88",
   "metadata": {},
   "outputs": [
    {
     "name": "stdout",
     "output_type": "stream",
     "text": [
      "[[137  16]\n",
      " [  4 111]]\n"
     ]
    }
   ],
   "source": [
    "print(confusion_matrix(y_test,Predections))"
   ]
  },
  {
   "cell_type": "code",
   "execution_count": 55,
   "id": "08fb3d68",
   "metadata": {},
   "outputs": [],
   "source": [
    "from sklearn.metrics import accuracy_score"
   ]
  },
  {
   "cell_type": "code",
   "execution_count": 56,
   "id": "36711a2f",
   "metadata": {},
   "outputs": [
    {
     "name": "stdout",
     "output_type": "stream",
     "text": [
      "0.9253731343283582\n"
     ]
    }
   ],
   "source": [
    "print(accuracy_score(y_test,Predections))"
   ]
  },
  {
   "cell_type": "markdown",
   "id": "f83c5d05",
   "metadata": {},
   "source": [
    "Dataset Observations:\n",
    "1. Survival Rate Observations\n",
    "* Only ~38% of passengers survived, while ~62% perished.\n",
    "* Women had a much higher survival rate (~74%) compared to men (~18%).\n",
    "* Children (age < 10) had a better chance of survival than adults.\n",
    "2. Gender and Survival Insights\n",
    "* ~74% of females survived, while only ~18% of males survived.\n",
    "* “Women and children first” policy led to a higher survival rate for women.\n",
    "* Male survival was much lower, especially in 3rd Class (~13%).\n",
    "3. Summary:\n",
    "* Higher class, higher fare, and being female or a child greatly increased survival chances.\n",
    "* Men in 3rd class had the worst survival rate (~13%).\n",
    "* Passengers with large families struggled to survive.\n",
    "\n",
    "\n",
    "Dropping irrelevant columns (Name, PassengerId, Ticket)\n",
    "Handling missing values by filling missing Age values with the mean.\n",
    "However, I still haven't located the model building and evaluation code. Let me extract more cells to find the relevant information. \n",
    "\n",
    "The extracted cells still show data cleaning and preprocessing steps, such as:\n",
    "\n",
    "Filling missing Cabin values based on Survived and Pclass.\n",
    "Filling missing Embarked values with \"S\".\n",
    "Printing some of the dataset's categorical features (Sex, Embarked, Pclass).\n",
    "\n",
    "One-hot encoding the Cabin column using pd.get_dummies().\n",
    "Dropping categorical features (Pclass, Sex, Embarked, and Cabin) and replacing them with the encoded versions.\n",
    "Defining the features (X) and the target (y):\n",
    "X → Contains the independent variables (features).\n",
    "y → Contains the target variable (Survived).\n"
   ]
  },
  {
   "cell_type": "code",
   "execution_count": null,
   "id": "dcb59a67",
   "metadata": {},
   "outputs": [],
   "source": []
  }
 ],
 "metadata": {
  "kernelspec": {
   "display_name": "Python 3 (ipykernel)",
   "language": "python",
   "name": "python3"
  },
  "language_info": {
   "codemirror_mode": {
    "name": "ipython",
    "version": 3
   },
   "file_extension": ".py",
   "mimetype": "text/x-python",
   "name": "python",
   "nbconvert_exporter": "python",
   "pygments_lexer": "ipython3",
   "version": "3.12.7"
  }
 },
 "nbformat": 4,
 "nbformat_minor": 5
}
